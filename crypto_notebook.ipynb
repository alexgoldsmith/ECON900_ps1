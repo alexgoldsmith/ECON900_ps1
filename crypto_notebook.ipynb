{
 "cells": [
  {
   "cell_type": "code",
   "execution_count": 1,
   "metadata": {},
   "outputs": [],
   "source": [
    "#Load libraries\n",
    "import pandas as pd\n",
    "import numpy as np\n",
    "import matplotlib as plt\n",
    "import statsmodels.api as sm\n",
    "from statsmodels.tsa.stattools import acf\n",
    "from statsmodels.graphics.tsaplots import plot_acf\n",
    "from statsmodels.tsa.stattools import adfuller\n",
    "from statsmodels.tsa.arima_model import ARMA\n",
    "%matplotlib inline"
   ]
  },
  {
   "cell_type": "code",
   "execution_count": 2,
   "metadata": {},
   "outputs": [],
   "source": [
    "#Read data to DataFrame\n",
    "df = pd.read_json('D:/Users/Alex/Documents/currencies_old.json')"
   ]
  },
  {
   "cell_type": "code",
   "execution_count": 3,
   "metadata": {},
   "outputs": [
    {
     "data": {
      "text/html": [
       "<div>\n",
       "<style scoped>\n",
       "    .dataframe tbody tr th:only-of-type {\n",
       "        vertical-align: middle;\n",
       "    }\n",
       "\n",
       "    .dataframe tbody tr th {\n",
       "        vertical-align: top;\n",
       "    }\n",
       "\n",
       "    .dataframe thead th {\n",
       "        text-align: right;\n",
       "    }\n",
       "</style>\n",
       "<table border=\"1\" class=\"dataframe\">\n",
       "  <thead>\n",
       "    <tr style=\"text-align: right;\">\n",
       "      <th></th>\n",
       "      <th>date</th>\n",
       "      <th>day_close</th>\n",
       "      <th>day_high</th>\n",
       "      <th>day_low</th>\n",
       "      <th>day_market_cap</th>\n",
       "      <th>day_open</th>\n",
       "      <th>day_volume</th>\n",
       "      <th>market_rank</th>\n",
       "      <th>short_name</th>\n",
       "    </tr>\n",
       "  </thead>\n",
       "  <tbody>\n",
       "    <tr>\n",
       "      <th>0</th>\n",
       "      <td>2019-04-01</td>\n",
       "      <td>4158.18</td>\n",
       "      <td>4164.95</td>\n",
       "      <td>4096.90</td>\n",
       "      <td>73,269,368,747</td>\n",
       "      <td>4105.36</td>\n",
       "      <td>10,157,794,171</td>\n",
       "      <td>#1</td>\n",
       "      <td>(BTC)</td>\n",
       "    </tr>\n",
       "    <tr>\n",
       "      <th>1</th>\n",
       "      <td>2019-03-31</td>\n",
       "      <td>4105.40</td>\n",
       "      <td>4113.02</td>\n",
       "      <td>4094.10</td>\n",
       "      <td>72,339,379,036</td>\n",
       "      <td>4105.46</td>\n",
       "      <td>9,045,122,443</td>\n",
       "      <td>#1</td>\n",
       "      <td>(BTC)</td>\n",
       "    </tr>\n",
       "    <tr>\n",
       "      <th>2</th>\n",
       "      <td>2019-03-30</td>\n",
       "      <td>4106.66</td>\n",
       "      <td>4296.81</td>\n",
       "      <td>4053.91</td>\n",
       "      <td>72,355,190,645</td>\n",
       "      <td>4092.14</td>\n",
       "      <td>9,732,688,060</td>\n",
       "      <td>#1</td>\n",
       "      <td>(BTC)</td>\n",
       "    </tr>\n",
       "    <tr>\n",
       "      <th>3</th>\n",
       "      <td>2019-03-29</td>\n",
       "      <td>4098.37</td>\n",
       "      <td>4113.50</td>\n",
       "      <td>4034.10</td>\n",
       "      <td>72,202,088,875</td>\n",
       "      <td>4068.30</td>\n",
       "      <td>10,918,665,557</td>\n",
       "      <td>#1</td>\n",
       "      <td>(BTC)</td>\n",
       "    </tr>\n",
       "    <tr>\n",
       "      <th>4</th>\n",
       "      <td>2019-03-28</td>\n",
       "      <td>4069.11</td>\n",
       "      <td>4094.90</td>\n",
       "      <td>4040.27</td>\n",
       "      <td>71,678,998,915</td>\n",
       "      <td>4087.58</td>\n",
       "      <td>9,353,915,899</td>\n",
       "      <td>#1</td>\n",
       "      <td>(BTC)</td>\n",
       "    </tr>\n",
       "  </tbody>\n",
       "</table>\n",
       "</div>"
      ],
      "text/plain": [
       "        date  day_close  day_high  day_low  day_market_cap  day_open  \\\n",
       "0 2019-04-01    4158.18   4164.95  4096.90  73,269,368,747   4105.36   \n",
       "1 2019-03-31    4105.40   4113.02  4094.10  72,339,379,036   4105.46   \n",
       "2 2019-03-30    4106.66   4296.81  4053.91  72,355,190,645   4092.14   \n",
       "3 2019-03-29    4098.37   4113.50  4034.10  72,202,088,875   4068.30   \n",
       "4 2019-03-28    4069.11   4094.90  4040.27  71,678,998,915   4087.58   \n",
       "\n",
       "       day_volume market_rank short_name  \n",
       "0  10,157,794,171          #1      (BTC)  \n",
       "1   9,045,122,443          #1      (BTC)  \n",
       "2   9,732,688,060          #1      (BTC)  \n",
       "3  10,918,665,557          #1      (BTC)  \n",
       "4   9,353,915,899          #1      (BTC)  "
      ]
     },
     "execution_count": 3,
     "metadata": {},
     "output_type": "execute_result"
    }
   ],
   "source": [
    "#Let's get a sense of the data\n",
    "df.head()"
   ]
  },
  {
   "cell_type": "code",
   "execution_count": 4,
   "metadata": {},
   "outputs": [
    {
     "name": "stdout",
     "output_type": "stream",
     "text": [
      "<class 'pandas.core.frame.DataFrame'>\n",
      "RangeIndex: 1380 entries, 0 to 1379\n",
      "Data columns (total 9 columns):\n",
      "date              1380 non-null datetime64[ns]\n",
      "day_close         1380 non-null float64\n",
      "day_high          1380 non-null float64\n",
      "day_low           1380 non-null float64\n",
      "day_market_cap    1380 non-null object\n",
      "day_open          1380 non-null float64\n",
      "day_volume        1380 non-null object\n",
      "market_rank       1380 non-null object\n",
      "short_name        1380 non-null object\n",
      "dtypes: datetime64[ns](1), float64(4), object(4)\n",
      "memory usage: 97.1+ KB\n"
     ]
    }
   ],
   "source": [
    "#DataFrame structure\n",
    "df.info()"
   ]
  },
  {
   "cell_type": "code",
   "execution_count": 6,
   "metadata": {},
   "outputs": [
    {
     "data": {
      "text/html": [
       "<div>\n",
       "<style scoped>\n",
       "    .dataframe tbody tr th:only-of-type {\n",
       "        vertical-align: middle;\n",
       "    }\n",
       "\n",
       "    .dataframe tbody tr th {\n",
       "        vertical-align: top;\n",
       "    }\n",
       "\n",
       "    .dataframe thead th {\n",
       "        text-align: right;\n",
       "    }\n",
       "</style>\n",
       "<table border=\"1\" class=\"dataframe\">\n",
       "  <thead>\n",
       "    <tr style=\"text-align: right;\">\n",
       "      <th></th>\n",
       "      <th>date</th>\n",
       "      <th>day_close</th>\n",
       "      <th>day_high</th>\n",
       "      <th>day_low</th>\n",
       "      <th>day_market_cap</th>\n",
       "      <th>day_open</th>\n",
       "      <th>day_volume</th>\n",
       "      <th>market_rank</th>\n",
       "      <th>short_name</th>\n",
       "    </tr>\n",
       "  </thead>\n",
       "  <tbody>\n",
       "    <tr>\n",
       "      <th>0</th>\n",
       "      <td>2019-04-01</td>\n",
       "      <td>4158.18</td>\n",
       "      <td>4164.95</td>\n",
       "      <td>4096.90</td>\n",
       "      <td>73,269,368,747</td>\n",
       "      <td>4105.36</td>\n",
       "      <td>10,157,794,171</td>\n",
       "      <td>1</td>\n",
       "      <td>BTC</td>\n",
       "    </tr>\n",
       "    <tr>\n",
       "      <th>1</th>\n",
       "      <td>2019-03-31</td>\n",
       "      <td>4105.40</td>\n",
       "      <td>4113.02</td>\n",
       "      <td>4094.10</td>\n",
       "      <td>72,339,379,036</td>\n",
       "      <td>4105.46</td>\n",
       "      <td>9,045,122,443</td>\n",
       "      <td>1</td>\n",
       "      <td>BTC</td>\n",
       "    </tr>\n",
       "    <tr>\n",
       "      <th>2</th>\n",
       "      <td>2019-03-30</td>\n",
       "      <td>4106.66</td>\n",
       "      <td>4296.81</td>\n",
       "      <td>4053.91</td>\n",
       "      <td>72,355,190,645</td>\n",
       "      <td>4092.14</td>\n",
       "      <td>9,732,688,060</td>\n",
       "      <td>1</td>\n",
       "      <td>BTC</td>\n",
       "    </tr>\n",
       "    <tr>\n",
       "      <th>3</th>\n",
       "      <td>2019-03-29</td>\n",
       "      <td>4098.37</td>\n",
       "      <td>4113.50</td>\n",
       "      <td>4034.10</td>\n",
       "      <td>72,202,088,875</td>\n",
       "      <td>4068.30</td>\n",
       "      <td>10,918,665,557</td>\n",
       "      <td>1</td>\n",
       "      <td>BTC</td>\n",
       "    </tr>\n",
       "    <tr>\n",
       "      <th>4</th>\n",
       "      <td>2019-03-28</td>\n",
       "      <td>4069.11</td>\n",
       "      <td>4094.90</td>\n",
       "      <td>4040.27</td>\n",
       "      <td>71,678,998,915</td>\n",
       "      <td>4087.58</td>\n",
       "      <td>9,353,915,899</td>\n",
       "      <td>1</td>\n",
       "      <td>BTC</td>\n",
       "    </tr>\n",
       "  </tbody>\n",
       "</table>\n",
       "</div>"
      ],
      "text/plain": [
       "        date  day_close  day_high  day_low  day_market_cap  day_open  \\\n",
       "0 2019-04-01    4158.18   4164.95  4096.90  73,269,368,747   4105.36   \n",
       "1 2019-03-31    4105.40   4113.02  4094.10  72,339,379,036   4105.46   \n",
       "2 2019-03-30    4106.66   4296.81  4053.91  72,355,190,645   4092.14   \n",
       "3 2019-03-29    4098.37   4113.50  4034.10  72,202,088,875   4068.30   \n",
       "4 2019-03-28    4069.11   4094.90  4040.27  71,678,998,915   4087.58   \n",
       "\n",
       "       day_volume  market_rank short_name  \n",
       "0  10,157,794,171            1        BTC  \n",
       "1   9,045,122,443            1        BTC  \n",
       "2   9,732,688,060            1        BTC  \n",
       "3  10,918,665,557            1        BTC  \n",
       "4   9,353,915,899            1        BTC  "
      ]
     },
     "execution_count": 6,
     "metadata": {},
     "output_type": "execute_result"
    }
   ],
   "source": [
    "#Clean market rank variable\n",
    "#df['market_rank'] = (\n",
    "#df['market_rank']\n",
    "#    .str.replace('#','')\n",
    "#    .astype(int)\n",
    "#)\n",
    "\n",
    "#Clean short name variable\n",
    "df['short_name'] = (\n",
    "df['short_name']\n",
    "    .str.replace('(','')\n",
    "    .str.replace(')','')\n",
    ")\n",
    "\n",
    "#Clean day close variable\n",
    "#df['day_close'] =  (\n",
    "#df['day_close']\n",
    "#    .str.replace(',','')\n",
    "#    .astype(float)\n",
    "#)\n",
    "#Check results\n",
    "df.head()"
   ]
  },
  {
   "cell_type": "code",
   "execution_count": 7,
   "metadata": {},
   "outputs": [
    {
     "data": {
      "text/html": [
       "<div>\n",
       "<style scoped>\n",
       "    .dataframe tbody tr th:only-of-type {\n",
       "        vertical-align: middle;\n",
       "    }\n",
       "\n",
       "    .dataframe tbody tr th {\n",
       "        vertical-align: top;\n",
       "    }\n",
       "\n",
       "    .dataframe thead th {\n",
       "        text-align: right;\n",
       "    }\n",
       "</style>\n",
       "<table border=\"1\" class=\"dataframe\">\n",
       "  <thead>\n",
       "    <tr style=\"text-align: right;\">\n",
       "      <th></th>\n",
       "      <th>date</th>\n",
       "      <th>day_close</th>\n",
       "      <th>day_high</th>\n",
       "      <th>day_low</th>\n",
       "      <th>day_market_cap</th>\n",
       "      <th>day_open</th>\n",
       "      <th>day_volume</th>\n",
       "      <th>market_rank</th>\n",
       "      <th>short_name</th>\n",
       "    </tr>\n",
       "  </thead>\n",
       "  <tbody>\n",
       "    <tr>\n",
       "      <th>29</th>\n",
       "      <td>2019-03-03</td>\n",
       "      <td>3847.18</td>\n",
       "      <td>3875.48</td>\n",
       "      <td>3836.91</td>\n",
       "      <td>67,592,376,373</td>\n",
       "      <td>3862.27</td>\n",
       "      <td>7,253,558,152</td>\n",
       "      <td>1</td>\n",
       "      <td>BTC</td>\n",
       "    </tr>\n",
       "    <tr>\n",
       "      <th>28</th>\n",
       "      <td>2019-03-04</td>\n",
       "      <td>3761.56</td>\n",
       "      <td>3867.38</td>\n",
       "      <td>3733.75</td>\n",
       "      <td>66,094,551,587</td>\n",
       "      <td>3845.09</td>\n",
       "      <td>9,029,175,788</td>\n",
       "      <td>1</td>\n",
       "      <td>BTC</td>\n",
       "    </tr>\n",
       "    <tr>\n",
       "      <th>27</th>\n",
       "      <td>2019-03-05</td>\n",
       "      <td>3896.38</td>\n",
       "      <td>3903.92</td>\n",
       "      <td>3745.18</td>\n",
       "      <td>68,470,655,400</td>\n",
       "      <td>3759.83</td>\n",
       "      <td>10,174,126,415</td>\n",
       "      <td>1</td>\n",
       "      <td>BTC</td>\n",
       "    </tr>\n",
       "    <tr>\n",
       "      <th>26</th>\n",
       "      <td>2019-03-06</td>\n",
       "      <td>3903.94</td>\n",
       "      <td>3919.51</td>\n",
       "      <td>3871.46</td>\n",
       "      <td>68,609,885,776</td>\n",
       "      <td>3897.08</td>\n",
       "      <td>9,175,291,529</td>\n",
       "      <td>1</td>\n",
       "      <td>BTC</td>\n",
       "    </tr>\n",
       "    <tr>\n",
       "      <th>25</th>\n",
       "      <td>2019-03-07</td>\n",
       "      <td>3911.48</td>\n",
       "      <td>3939.37</td>\n",
       "      <td>3894.11</td>\n",
       "      <td>68,749,421,311</td>\n",
       "      <td>3903.38</td>\n",
       "      <td>9,584,165,519</td>\n",
       "      <td>1</td>\n",
       "      <td>BTC</td>\n",
       "    </tr>\n",
       "  </tbody>\n",
       "</table>\n",
       "</div>"
      ],
      "text/plain": [
       "         date  day_close  day_high  day_low  day_market_cap  day_open  \\\n",
       "29 2019-03-03    3847.18   3875.48  3836.91  67,592,376,373   3862.27   \n",
       "28 2019-03-04    3761.56   3867.38  3733.75  66,094,551,587   3845.09   \n",
       "27 2019-03-05    3896.38   3903.92  3745.18  68,470,655,400   3759.83   \n",
       "26 2019-03-06    3903.94   3919.51  3871.46  68,609,885,776   3897.08   \n",
       "25 2019-03-07    3911.48   3939.37  3894.11  68,749,421,311   3903.38   \n",
       "\n",
       "        day_volume  market_rank short_name  \n",
       "29   7,253,558,152            1        BTC  \n",
       "28   9,029,175,788            1        BTC  \n",
       "27  10,174,126,415            1        BTC  \n",
       "26   9,175,291,529            1        BTC  \n",
       "25   9,584,165,519            1        BTC  "
      ]
     },
     "execution_count": 7,
     "metadata": {},
     "output_type": "execute_result"
    }
   ],
   "source": [
    "#Sort DataFrame\n",
    "df.sort_values(['market_rank', 'date'], ascending = [True, True], inplace = True)\n",
    "df.head()"
   ]
  },
  {
   "cell_type": "code",
   "execution_count": 8,
   "metadata": {},
   "outputs": [
    {
     "name": "stdout",
     "output_type": "stream",
     "text": [
      "date\n",
      "2019-03-03    3847.18\n",
      "2019-03-04    3761.56\n",
      "2019-03-05    3896.38\n",
      "2019-03-06    3903.94\n",
      "2019-03-07    3911.48\n",
      "Name: day_close, dtype: float64\n",
      "date\n",
      "2019-03-03    132.25\n",
      "2019-03-04    127.77\n",
      "2019-03-05    137.82\n",
      "2019-03-06    138.79\n",
      "2019-03-07    138.03\n",
      "Name: day_close, dtype: float64\n"
     ]
    }
   ],
   "source": [
    "#Create Bitcoin and Ethereum series'\n",
    "BTC = (\n",
    "df\n",
    "    .loc[df['short_name'] == 'BTC']\n",
    "    .set_index('date')\n",
    "    .loc[:,'day_close']\n",
    ")\n",
    "ETH = (\n",
    "df\n",
    "    .loc[df['short_name'] == 'ETH']\n",
    "    .set_index('date')\n",
    "    .loc[:,'day_close']\n",
    ")\n",
    "print(BTC.head())\n",
    "print(ETH.head())"
   ]
  },
  {
   "cell_type": "code",
   "execution_count": 9,
   "metadata": {},
   "outputs": [
    {
     "name": "stdout",
     "output_type": "stream",
     "text": [
      "                              ARMA Model Results                              \n",
      "==============================================================================\n",
      "Dep. Variable:              day_close   No. Observations:                   30\n",
      "Model:                     ARMA(1, 0)   Log Likelihood                -158.842\n",
      "Method:                       css-mle   S.D. of innovations             46.894\n",
      "Date:                Sun, 14 Apr 2019   AIC                            323.683\n",
      "Time:                        20:30:08   BIC                            327.887\n",
      "Sample:                    03-03-2019   HQIC                           325.028\n",
      "                         - 04-01-2019                                         \n",
      "===================================================================================\n",
      "                      coef    std err          z      P>|z|      [0.025      0.975]\n",
      "-----------------------------------------------------------------------------------\n",
      "const            3994.6424     68.496     58.319      0.000    3860.393    4128.892\n",
      "ar.L1.day_close     0.9014      0.085     10.603      0.000       0.735       1.068\n",
      "                                    Roots                                    \n",
      "=============================================================================\n",
      "                  Real          Imaginary           Modulus         Frequency\n",
      "-----------------------------------------------------------------------------\n",
      "AR.1            1.1094           +0.0000j            1.1094            0.0000\n",
      "-----------------------------------------------------------------------------\n"
     ]
    },
    {
     "name": "stderr",
     "output_type": "stream",
     "text": [
      "D:\\Users\\Alex\\Anaconda\\lib\\site-packages\\statsmodels\\tsa\\base\\tsa_model.py:171: ValueWarning: No frequency information was provided, so inferred frequency D will be used.\n",
      "  % freq, ValueWarning)\n",
      "D:\\Users\\Alex\\Anaconda\\lib\\site-packages\\statsmodels\\tsa\\base\\tsa_model.py:191: FutureWarning: Creating a DatetimeIndex by passing range endpoints is deprecated.  Use `pandas.date_range` instead.\n",
      "  start=index[0], end=index[-1], freq=freq)\n"
     ]
    }
   ],
   "source": [
    "#First order autogregression model at day level\n",
    "BTC_day_model = ARMA(BTC, order = (1,0))\n",
    "BTC_day_results = BTC_day_model.fit()\n",
    "print(BTC_day_results.summary())"
   ]
  },
  {
   "cell_type": "code",
   "execution_count": 10,
   "metadata": {},
   "outputs": [
    {
     "name": "stderr",
     "output_type": "stream",
     "text": [
      "D:\\Users\\Alex\\Anaconda\\lib\\site-packages\\statsmodels\\tsa\\base\\tsa_model.py:320: FutureWarning: Creating a DatetimeIndex by passing range endpoints is deprecated.  Use `pandas.date_range` instead.\n",
      "  freq=base_index.freq)\n"
     ]
    },
    {
     "ename": "AttributeError",
     "evalue": "module 'matplotlib' has no attribute 'show'",
     "output_type": "error",
     "traceback": [
      "\u001b[1;31m---------------------------------------------------------------------------\u001b[0m",
      "\u001b[1;31mAttributeError\u001b[0m                            Traceback (most recent call last)",
      "\u001b[1;32m<ipython-input-10-84354332bd32>\u001b[0m in \u001b[0;36m<module>\u001b[1;34m\u001b[0m\n\u001b[0;32m      2\u001b[0m \u001b[0mlen\u001b[0m\u001b[1;33m(\u001b[0m\u001b[0mBTC\u001b[0m\u001b[1;33m)\u001b[0m\u001b[1;33m\u001b[0m\u001b[1;33m\u001b[0m\u001b[0m\n\u001b[0;32m      3\u001b[0m \u001b[0mBTC_day_results\u001b[0m\u001b[1;33m.\u001b[0m\u001b[0mplot_predict\u001b[0m\u001b[1;33m(\u001b[0m\u001b[0mstart\u001b[0m \u001b[1;33m=\u001b[0m \u001b[1;36m15\u001b[0m\u001b[1;33m,\u001b[0m \u001b[0mend\u001b[0m \u001b[1;33m=\u001b[0m \u001b[1;36m35\u001b[0m\u001b[1;33m)\u001b[0m\u001b[1;33m\u001b[0m\u001b[1;33m\u001b[0m\u001b[0m\n\u001b[1;32m----> 4\u001b[1;33m \u001b[0mplt\u001b[0m\u001b[1;33m.\u001b[0m\u001b[0mshow\u001b[0m\u001b[1;33m(\u001b[0m\u001b[1;33m)\u001b[0m\u001b[1;33m\u001b[0m\u001b[1;33m\u001b[0m\u001b[0m\n\u001b[0m",
      "\u001b[1;31mAttributeError\u001b[0m: module 'matplotlib' has no attribute 'show'"
     ]
    },
    {
     "data": {
      "image/png": "[encoded data removed]",
      "text/plain": [
       "<Figure size 432x288 with 1 Axes>"
      ]
     },
     "metadata": {
      "needs_background": "light"
     },
     "output_type": "display_data"
    }
   ],
   "source": [
    "#Forcast Bitcoin at day level\n",
    "len(BTC)\n",
    "BTC_day_results.plot_predict(start = 15, end = 35)\n",
    "plt.show()"
   ]
  },
  {
   "cell_type": "code",
   "execution_count": null,
   "metadata": {},
   "outputs": [],
   "source": [
    "#Autoregress Bitcoin at week level"
   ]
  },
  {
   "cell_type": "code",
   "execution_count": null,
   "metadata": {},
   "outputs": [],
   "source": [
    "#Autoregress Bitcoin at month level"
   ]
  },
  {
   "cell_type": "code",
   "execution_count": null,
   "metadata": {},
   "outputs": [],
   "source": [
    "#"
   ]
  }
 ],
 "metadata": {
  "kernelspec": {
   "display_name": "Python 3",
   "language": "python",
   "name": "python3"
  },
  "language_info": {
   "codemirror_mode": {
    "name": "ipython",
    "version": 3
   },
   "file_extension": ".py",
   "mimetype": "text/x-python",
   "name": "python",
   "nbconvert_exporter": "python",
   "pygments_lexer": "ipython3",
   "version": "3.6.8"
  }
 },
 "nbformat": 4,
 "nbformat_minor": 2
}

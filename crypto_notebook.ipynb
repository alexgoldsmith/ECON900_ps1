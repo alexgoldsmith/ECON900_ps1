{
 "cells": [
  {
   "cell_type": "markdown",
   "metadata": {},
   "source": [
    "Alex Goldsmith <br>\n",
    "ECON 9000 <br>\n",
    "Problem Set 1 <br>"
   ]
  },
  {
   "cell_type": "code",
   "execution_count": 1,
   "metadata": {},
   "outputs": [],
   "source": [
    "#Load libraries\n",
    "import pandas as pd\n",
    "import numpy as np\n",
    "import matplotlib.pyplot as plt\n",
    "%matplotlib inline"
   ]
  },
  {
   "cell_type": "code",
   "execution_count": 2,
   "metadata": {},
   "outputs": [],
   "source": [
    "#Read data to DataFrame\n",
    "df = pd.read_json('currencies.json')"
   ]
  },
  {
   "cell_type": "code",
   "execution_count": 3,
   "metadata": {},
   "outputs": [
    {
     "data": {
      "text/html": [
       "<div>\n",
       "<style scoped>\n",
       "    .dataframe tbody tr th:only-of-type {\n",
       "        vertical-align: middle;\n",
       "    }\n",
       "\n",
       "    .dataframe tbody tr th {\n",
       "        vertical-align: top;\n",
       "    }\n",
       "\n",
       "    .dataframe thead th {\n",
       "        text-align: right;\n",
       "    }\n",
       "</style>\n",
       "<table border=\"1\" class=\"dataframe\">\n",
       "  <thead>\n",
       "    <tr style=\"text-align: right;\">\n",
       "      <th></th>\n",
       "      <th>date</th>\n",
       "      <th>day_close</th>\n",
       "      <th>day_high</th>\n",
       "      <th>day_low</th>\n",
       "      <th>day_market_cap</th>\n",
       "      <th>day_open</th>\n",
       "      <th>day_volume</th>\n",
       "      <th>long_name</th>\n",
       "      <th>market_rank</th>\n",
       "      <th>short_name</th>\n",
       "    </tr>\n",
       "  </thead>\n",
       "  <tbody>\n",
       "    <tr>\n",
       "      <th>0</th>\n",
       "      <td>2019-04-09</td>\n",
       "      <td>0.358662</td>\n",
       "      <td>0.368276</td>\n",
       "      <td>0.341337</td>\n",
       "      <td>210,789,830</td>\n",
       "      <td>0.349616</td>\n",
       "      <td>25,531,764</td>\n",
       "      <td>0x</td>\n",
       "      <td>#38</td>\n",
       "      <td>(ZRX)</td>\n",
       "    </tr>\n",
       "    <tr>\n",
       "      <th>1</th>\n",
       "      <td>2019-04-08</td>\n",
       "      <td>0.349616</td>\n",
       "      <td>0.368514</td>\n",
       "      <td>0.338603</td>\n",
       "      <td>205,422,221</td>\n",
       "      <td>0.356285</td>\n",
       "      <td>25,068,719</td>\n",
       "      <td>0x</td>\n",
       "      <td>#38</td>\n",
       "      <td>(ZRX)</td>\n",
       "    </tr>\n",
       "    <tr>\n",
       "      <th>2</th>\n",
       "      <td>2019-04-09</td>\n",
       "      <td>0.000049</td>\n",
       "      <td>0.000049</td>\n",
       "      <td>0.000037</td>\n",
       "      <td>1,296,018</td>\n",
       "      <td>0.000042</td>\n",
       "      <td>225</td>\n",
       "      <td>Elite</td>\n",
       "      <td>#1262</td>\n",
       "      <td>(1337)</td>\n",
       "    </tr>\n",
       "    <tr>\n",
       "      <th>3</th>\n",
       "      <td>2019-04-07</td>\n",
       "      <td>0.356219</td>\n",
       "      <td>0.368567</td>\n",
       "      <td>0.350586</td>\n",
       "      <td>209,301,552</td>\n",
       "      <td>0.353494</td>\n",
       "      <td>28,228,595</td>\n",
       "      <td>0x</td>\n",
       "      <td>#38</td>\n",
       "      <td>(ZRX)</td>\n",
       "    </tr>\n",
       "    <tr>\n",
       "      <th>4</th>\n",
       "      <td>2019-04-08</td>\n",
       "      <td>0.000042</td>\n",
       "      <td>0.000046</td>\n",
       "      <td>0.000039</td>\n",
       "      <td>1,108,819</td>\n",
       "      <td>0.000043</td>\n",
       "      <td>162</td>\n",
       "      <td>Elite</td>\n",
       "      <td>#1262</td>\n",
       "      <td>(1337)</td>\n",
       "    </tr>\n",
       "  </tbody>\n",
       "</table>\n",
       "</div>"
      ],
      "text/plain": [
       "        date day_close  day_high   day_low day_market_cap  day_open  \\\n",
       "0 2019-04-09  0.358662  0.368276  0.341337    210,789,830  0.349616   \n",
       "1 2019-04-08  0.349616  0.368514  0.338603    205,422,221  0.356285   \n",
       "2 2019-04-09  0.000049  0.000049  0.000037      1,296,018  0.000042   \n",
       "3 2019-04-07  0.356219  0.368567  0.350586    209,301,552  0.353494   \n",
       "4 2019-04-08  0.000042  0.000046  0.000039      1,108,819  0.000043   \n",
       "\n",
       "   day_volume long_name market_rank short_name  \n",
       "0  25,531,764        0x         #38      (ZRX)  \n",
       "1  25,068,719        0x         #38      (ZRX)  \n",
       "2         225     Elite       #1262     (1337)  \n",
       "3  28,228,595        0x         #38      (ZRX)  \n",
       "4         162     Elite       #1262     (1337)  "
      ]
     },
     "execution_count": 3,
     "metadata": {},
     "output_type": "execute_result"
    }
   ],
   "source": [
    "#Let's get a sense of the data\n",
    "df.head()"
   ]
  },
  {
   "cell_type": "code",
   "execution_count": 4,
   "metadata": {},
   "outputs": [
    {
     "name": "stdout",
     "output_type": "stream",
     "text": [
      "<class 'pandas.core.frame.DataFrame'>\n",
      "RangeIndex: 667421 entries, 0 to 667420\n",
      "Data columns (total 10 columns):\n",
      "date              667421 non-null datetime64[ns]\n",
      "day_close         667421 non-null object\n",
      "day_high          667421 non-null object\n",
      "day_low           667421 non-null object\n",
      "day_market_cap    667421 non-null object\n",
      "day_open          667421 non-null object\n",
      "day_volume        667421 non-null object\n",
      "long_name         667421 non-null object\n",
      "market_rank       667421 non-null object\n",
      "short_name        667421 non-null object\n",
      "dtypes: datetime64[ns](1), object(9)\n",
      "memory usage: 50.9+ MB\n"
     ]
    }
   ],
   "source": [
    "#DataFrame structure\n",
    "df.info()"
   ]
  },
  {
   "cell_type": "markdown",
   "metadata": {},
   "source": [
    "First off, we need to do some data cleaning. The 'market_rank' variable starts with the pound sign, so we need to get rid of that. The shortened names of the cryptocurrencies are contained in parentheses, so we should elimate those as well. We also need to remove the commas from the closing prices of the cryptocurrencies and convert the values to float. Finally, we need to set the 'date' column as the index for the dataset to work with the API's of our packages such as Pandas and StatsModels."
   ]
  },
  {
   "cell_type": "code",
   "execution_count": 5,
   "metadata": {},
   "outputs": [
    {
     "data": {
      "text/html": [
       "<div>\n",
       "<style scoped>\n",
       "    .dataframe tbody tr th:only-of-type {\n",
       "        vertical-align: middle;\n",
       "    }\n",
       "\n",
       "    .dataframe tbody tr th {\n",
       "        vertical-align: top;\n",
       "    }\n",
       "\n",
       "    .dataframe thead th {\n",
       "        text-align: right;\n",
       "    }\n",
       "</style>\n",
       "<table border=\"1\" class=\"dataframe\">\n",
       "  <thead>\n",
       "    <tr style=\"text-align: right;\">\n",
       "      <th></th>\n",
       "      <th>day_close</th>\n",
       "      <th>day_high</th>\n",
       "      <th>day_low</th>\n",
       "      <th>day_market_cap</th>\n",
       "      <th>day_open</th>\n",
       "      <th>day_volume</th>\n",
       "      <th>long_name</th>\n",
       "      <th>market_rank</th>\n",
       "      <th>short_name</th>\n",
       "    </tr>\n",
       "    <tr>\n",
       "      <th>date</th>\n",
       "      <th></th>\n",
       "      <th></th>\n",
       "      <th></th>\n",
       "      <th></th>\n",
       "      <th></th>\n",
       "      <th></th>\n",
       "      <th></th>\n",
       "      <th></th>\n",
       "      <th></th>\n",
       "    </tr>\n",
       "  </thead>\n",
       "  <tbody>\n",
       "    <tr>\n",
       "      <th>2019-04-09</th>\n",
       "      <td>0.358662</td>\n",
       "      <td>0.368276</td>\n",
       "      <td>0.341337</td>\n",
       "      <td>210,789,830</td>\n",
       "      <td>0.349616</td>\n",
       "      <td>25,531,764</td>\n",
       "      <td>0x</td>\n",
       "      <td>38</td>\n",
       "      <td>ZRX</td>\n",
       "    </tr>\n",
       "    <tr>\n",
       "      <th>2019-04-08</th>\n",
       "      <td>0.349616</td>\n",
       "      <td>0.368514</td>\n",
       "      <td>0.338603</td>\n",
       "      <td>205,422,221</td>\n",
       "      <td>0.356285</td>\n",
       "      <td>25,068,719</td>\n",
       "      <td>0x</td>\n",
       "      <td>38</td>\n",
       "      <td>ZRX</td>\n",
       "    </tr>\n",
       "    <tr>\n",
       "      <th>2019-04-09</th>\n",
       "      <td>0.000049</td>\n",
       "      <td>0.000049</td>\n",
       "      <td>0.000037</td>\n",
       "      <td>1,296,018</td>\n",
       "      <td>0.000042</td>\n",
       "      <td>225</td>\n",
       "      <td>Elite</td>\n",
       "      <td>1262</td>\n",
       "      <td>1337</td>\n",
       "    </tr>\n",
       "    <tr>\n",
       "      <th>2019-04-07</th>\n",
       "      <td>0.356219</td>\n",
       "      <td>0.368567</td>\n",
       "      <td>0.350586</td>\n",
       "      <td>209,301,552</td>\n",
       "      <td>0.353494</td>\n",
       "      <td>28,228,595</td>\n",
       "      <td>0x</td>\n",
       "      <td>38</td>\n",
       "      <td>ZRX</td>\n",
       "    </tr>\n",
       "    <tr>\n",
       "      <th>2019-04-08</th>\n",
       "      <td>0.000042</td>\n",
       "      <td>0.000046</td>\n",
       "      <td>0.000039</td>\n",
       "      <td>1,108,819</td>\n",
       "      <td>0.000043</td>\n",
       "      <td>162</td>\n",
       "      <td>Elite</td>\n",
       "      <td>1262</td>\n",
       "      <td>1337</td>\n",
       "    </tr>\n",
       "  </tbody>\n",
       "</table>\n",
       "</div>"
      ],
      "text/plain": [
       "            day_close  day_high   day_low day_market_cap  day_open  \\\n",
       "date                                                                 \n",
       "2019-04-09   0.358662  0.368276  0.341337    210,789,830  0.349616   \n",
       "2019-04-08   0.349616  0.368514  0.338603    205,422,221  0.356285   \n",
       "2019-04-09   0.000049  0.000049  0.000037      1,296,018  0.000042   \n",
       "2019-04-07   0.356219  0.368567  0.350586    209,301,552  0.353494   \n",
       "2019-04-08   0.000042  0.000046  0.000039      1,108,819  0.000043   \n",
       "\n",
       "            day_volume long_name  market_rank short_name  \n",
       "date                                                      \n",
       "2019-04-09  25,531,764        0x           38        ZRX  \n",
       "2019-04-08  25,068,719        0x           38        ZRX  \n",
       "2019-04-09         225     Elite         1262       1337  \n",
       "2019-04-07  28,228,595        0x           38        ZRX  \n",
       "2019-04-08         162     Elite         1262       1337  "
      ]
     },
     "execution_count": 5,
     "metadata": {},
     "output_type": "execute_result"
    }
   ],
   "source": [
    "#Clean market rank variable\n",
    "df['market_rank'] = (\n",
    "df['market_rank']\n",
    "    .str.replace('#','')\n",
    "    .astype(int)\n",
    ")\n",
    "\n",
    "#Clean short name variable\n",
    "df['short_name'] = (\n",
    "df['short_name']\n",
    "    .str.replace('(','')\n",
    "    .str.replace(')','')\n",
    ")\n",
    "\n",
    "#Clean day close variable\n",
    "df['day_close'] =  (\n",
    "df['day_close']\n",
    "    .str.replace(',','')\n",
    "    .astype(float)\n",
    ")\n",
    "\n",
    "#Set date column as index\n",
    "df = df.set_index('date')\n",
    "\n",
    "#Check results\n",
    "df.head()"
   ]
  },
  {
   "cell_type": "markdown",
   "metadata": {},
   "source": [
    "Let's sort our original dataset to make it easier to create our series' needed for our prediction models."
   ]
  },
  {
   "cell_type": "code",
   "execution_count": 6,
   "metadata": {},
   "outputs": [
    {
     "data": {
      "text/html": [
       "<div>\n",
       "<style scoped>\n",
       "    .dataframe tbody tr th:only-of-type {\n",
       "        vertical-align: middle;\n",
       "    }\n",
       "\n",
       "    .dataframe tbody tr th {\n",
       "        vertical-align: top;\n",
       "    }\n",
       "\n",
       "    .dataframe thead th {\n",
       "        text-align: right;\n",
       "    }\n",
       "</style>\n",
       "<table border=\"1\" class=\"dataframe\">\n",
       "  <thead>\n",
       "    <tr style=\"text-align: right;\">\n",
       "      <th></th>\n",
       "      <th>day_close</th>\n",
       "      <th>day_high</th>\n",
       "      <th>day_low</th>\n",
       "      <th>day_market_cap</th>\n",
       "      <th>day_open</th>\n",
       "      <th>day_volume</th>\n",
       "      <th>long_name</th>\n",
       "      <th>market_rank</th>\n",
       "      <th>short_name</th>\n",
       "    </tr>\n",
       "    <tr>\n",
       "      <th>date</th>\n",
       "      <th></th>\n",
       "      <th></th>\n",
       "      <th></th>\n",
       "      <th></th>\n",
       "      <th></th>\n",
       "      <th></th>\n",
       "      <th></th>\n",
       "      <th></th>\n",
       "      <th></th>\n",
       "    </tr>\n",
       "  </thead>\n",
       "  <tbody>\n",
       "    <tr>\n",
       "      <th>2013-04-28</th>\n",
       "      <td>134.21</td>\n",
       "      <td>135.98</td>\n",
       "      <td>132.10</td>\n",
       "      <td>1,488,566,728</td>\n",
       "      <td>135.30</td>\n",
       "      <td>-</td>\n",
       "      <td>Bitcoin</td>\n",
       "      <td>1</td>\n",
       "      <td>BTC</td>\n",
       "    </tr>\n",
       "    <tr>\n",
       "      <th>2013-04-29</th>\n",
       "      <td>144.54</td>\n",
       "      <td>147.49</td>\n",
       "      <td>134.00</td>\n",
       "      <td>1,603,768,865</td>\n",
       "      <td>134.44</td>\n",
       "      <td>-</td>\n",
       "      <td>Bitcoin</td>\n",
       "      <td>1</td>\n",
       "      <td>BTC</td>\n",
       "    </tr>\n",
       "    <tr>\n",
       "      <th>2013-04-30</th>\n",
       "      <td>139.00</td>\n",
       "      <td>146.93</td>\n",
       "      <td>134.05</td>\n",
       "      <td>1,542,813,125</td>\n",
       "      <td>144.00</td>\n",
       "      <td>-</td>\n",
       "      <td>Bitcoin</td>\n",
       "      <td>1</td>\n",
       "      <td>BTC</td>\n",
       "    </tr>\n",
       "    <tr>\n",
       "      <th>2013-05-01</th>\n",
       "      <td>116.99</td>\n",
       "      <td>139.89</td>\n",
       "      <td>107.72</td>\n",
       "      <td>1,298,954,594</td>\n",
       "      <td>139.00</td>\n",
       "      <td>-</td>\n",
       "      <td>Bitcoin</td>\n",
       "      <td>1</td>\n",
       "      <td>BTC</td>\n",
       "    </tr>\n",
       "    <tr>\n",
       "      <th>2013-05-02</th>\n",
       "      <td>105.21</td>\n",
       "      <td>125.60</td>\n",
       "      <td>92.28</td>\n",
       "      <td>1,168,517,495</td>\n",
       "      <td>116.38</td>\n",
       "      <td>-</td>\n",
       "      <td>Bitcoin</td>\n",
       "      <td>1</td>\n",
       "      <td>BTC</td>\n",
       "    </tr>\n",
       "  </tbody>\n",
       "</table>\n",
       "</div>"
      ],
      "text/plain": [
       "            day_close day_high day_low day_market_cap day_open day_volume  \\\n",
       "date                                                                        \n",
       "2013-04-28     134.21   135.98  132.10  1,488,566,728   135.30          -   \n",
       "2013-04-29     144.54   147.49  134.00  1,603,768,865   134.44          -   \n",
       "2013-04-30     139.00   146.93  134.05  1,542,813,125   144.00          -   \n",
       "2013-05-01     116.99   139.89  107.72  1,298,954,594   139.00          -   \n",
       "2013-05-02     105.21   125.60   92.28  1,168,517,495   116.38          -   \n",
       "\n",
       "           long_name  market_rank short_name  \n",
       "date                                          \n",
       "2013-04-28   Bitcoin            1        BTC  \n",
       "2013-04-29   Bitcoin            1        BTC  \n",
       "2013-04-30   Bitcoin            1        BTC  \n",
       "2013-05-01   Bitcoin            1        BTC  \n",
       "2013-05-02   Bitcoin            1        BTC  "
      ]
     },
     "execution_count": 6,
     "metadata": {},
     "output_type": "execute_result"
    }
   ],
   "source": [
    "#Sort DataFrame\n",
    "df.sort_values(['market_rank', 'date'], ascending = [True, True], inplace = True)\n",
    "df.head()"
   ]
  },
  {
   "cell_type": "markdown",
   "metadata": {},
   "source": [
    "Before we create our models, we should create some example series that are easily feedable into our machine learning model."
   ]
  },
  {
   "cell_type": "code",
   "execution_count": 7,
   "metadata": {},
   "outputs": [],
   "source": [
    "#Create Bitcoin and Ethereum series'\n",
    "BTC = (\n",
    "df\n",
    "    .loc[df['short_name'] == 'BTC']\n",
    "    .loc[:,'day_close']\n",
    ")\n",
    "ETH = (\n",
    "df\n",
    "    .loc[df['short_name'] == 'ETH']\n",
    "    .loc[:,'day_close']\n",
    ")\n",
    "\n",
    "#Merge to new DataFrame\n",
    "df_example = pd.DataFrame(columns = ['BTC', 'ETH'])\n",
    "df_example['BTC'] = BTC\n",
    "df_example['ETH'] = ETH\n",
    "#Subset example DataFrame\n",
    "df_example = df_example['2015-08-07':'2019-04-09']"
   ]
  },
  {
   "cell_type": "markdown",
   "metadata": {},
   "source": [
    "As we are working with time series data, our machine learning model should take into account the autocorrelation of the values in our series. Let's visualize our data to get a better sense of the nature of the autocorrelation."
   ]
  },
  {
   "cell_type": "code",
   "execution_count": 8,
   "metadata": {},
   "outputs": [
    {
     "data": {
      "image/png": "[encoded data removed]",
      "text/plain": [
       "<Figure size 1512x432 with 3 Axes>"
      ]
     },
     "metadata": {
      "needs_background": "light"
     },
     "output_type": "display_data"
    }
   ],
   "source": [
    "#Visualize Autocorrelation of Bitcoin prices\n",
    "from pandas.plotting import lag_plot\n",
    "from pandas.plotting import autocorrelation_plot\n",
    "from statsmodels.graphics.tsaplots import plot_acf\n",
    "fig, ax = plt.subplots(1,3, figsize = (21,6))\n",
    "a0 = lag_plot(BTC, ax = ax[0])\n",
    "ax[0].set_title('Lag 1 Autocorrelation Scatterplot')\n",
    "a1 = plot_acf(BTC, lags = 30, ax = ax[1])\n",
    "ax[1].set_title('Autocorrelation over 30 lags')\n",
    "ax[1].set_ylabel('Autocorrelation')\n",
    "ax[1].set_xlabel('Lag')\n",
    "a2 = autocorrelation_plot(BTC, ax = ax[2])\n",
    "ax[2].set_title('Autocorrelation over all lags')\n",
    "plt.show()"
   ]
  },
  {
   "cell_type": "markdown",
   "metadata": {},
   "source": [
    "As we can see from the above plots, the day closing prices of Bitcoin are heavily correlated. Our model should take this into account. Now, we should check the stationarity of the series before building our model. We will do this both by plotting and running statistical tests."
   ]
  },
  {
   "cell_type": "code",
   "execution_count": 9,
   "metadata": {},
   "outputs": [
    {
     "name": "stderr",
     "output_type": "stream",
     "text": [
      "D:\\Users\\Alex\\Anaconda\\lib\\site-packages\\pandas\\plotting\\_converter.py:129: FutureWarning: Using an implicitly registered datetime converter for a matplotlib plotting method. The converter was registered by pandas on import. Future versions of pandas will require you to explicitly register matplotlib converters.\n",
      "\n",
      "To register the converters:\n",
      "\t>>> from pandas.plotting import register_matplotlib_converters\n",
      "\t>>> register_matplotlib_converters()\n",
      "  warnings.warn(msg, FutureWarning)\n"
     ]
    },
    {
     "ename": "NameError",
     "evalue": "name 'df_example_dff' is not defined",
     "output_type": "error",
     "traceback": [
      "\u001b[1;31m---------------------------------------------------------------------------\u001b[0m",
      "\u001b[1;31mNameError\u001b[0m                                 Traceback (most recent call last)",
      "\u001b[1;32m<ipython-input-9-93dcbf75d6d1>\u001b[0m in \u001b[0;36m<module>\u001b[1;34m\u001b[0m\n\u001b[0;32m      9\u001b[0m \u001b[0max\u001b[0m\u001b[1;33m[\u001b[0m\u001b[1;36m0\u001b[0m\u001b[1;33m]\u001b[0m\u001b[1;33m.\u001b[0m\u001b[0mset_ylabel\u001b[0m\u001b[1;33m(\u001b[0m\u001b[1;34m'Day closing price (USD)'\u001b[0m\u001b[1;33m)\u001b[0m\u001b[1;33m\u001b[0m\u001b[1;33m\u001b[0m\u001b[0m\n\u001b[0;32m     10\u001b[0m \u001b[0max\u001b[0m\u001b[1;33m[\u001b[0m\u001b[1;36m0\u001b[0m\u001b[1;33m]\u001b[0m\u001b[1;33m.\u001b[0m\u001b[0mset_xlabel\u001b[0m\u001b[1;33m(\u001b[0m\u001b[1;34m'Date'\u001b[0m\u001b[1;33m)\u001b[0m\u001b[1;33m\u001b[0m\u001b[1;33m\u001b[0m\u001b[0m\n\u001b[1;32m---> 11\u001b[1;33m \u001b[0max\u001b[0m\u001b[1;33m[\u001b[0m\u001b[1;36m1\u001b[0m\u001b[1;33m]\u001b[0m\u001b[1;33m.\u001b[0m\u001b[0mplot\u001b[0m\u001b[1;33m(\u001b[0m\u001b[0mdf_example_dff\u001b[0m\u001b[1;33m[\u001b[0m\u001b[1;34m'BTC'\u001b[0m\u001b[1;33m]\u001b[0m\u001b[1;33m)\u001b[0m\u001b[1;33m\u001b[0m\u001b[1;33m\u001b[0m\u001b[0m\n\u001b[0m\u001b[0;32m     12\u001b[0m \u001b[0max\u001b[0m\u001b[1;33m[\u001b[0m\u001b[1;36m1\u001b[0m\u001b[1;33m]\u001b[0m\u001b[1;33m.\u001b[0m\u001b[0mset_title\u001b[0m\u001b[1;33m(\u001b[0m\u001b[1;34m'Bitcoin Price Changes from Previous Day'\u001b[0m\u001b[1;33m)\u001b[0m\u001b[1;33m\u001b[0m\u001b[1;33m\u001b[0m\u001b[0m\n\u001b[0;32m     13\u001b[0m \u001b[0max\u001b[0m\u001b[1;33m[\u001b[0m\u001b[1;36m1\u001b[0m\u001b[1;33m]\u001b[0m\u001b[1;33m.\u001b[0m\u001b[0mset_ylabel\u001b[0m\u001b[1;33m(\u001b[0m\u001b[1;34m'Day closing price (USD)'\u001b[0m\u001b[1;33m)\u001b[0m\u001b[1;33m\u001b[0m\u001b[1;33m\u001b[0m\u001b[0m\n",
      "\u001b[1;31mNameError\u001b[0m: name 'df_example_dff' is not defined"
     ]
    },
    {
     "data": {
      "image/png": "[encoded data removed]",
      "text/plain": [
       "<Figure size 1512x432 with 3 Axes>"
      ]
     },
     "metadata": {
      "needs_background": "light"
     },
     "output_type": "display_data"
    }
   ],
   "source": [
    "#Take first differences\n",
    "df_example_diff = df_example.diff()\n",
    "df_example_diff = df_example_diff.dropna()\n",
    "\n",
    "#Plot values\n",
    "fig, ax = plt.subplots(1,3, figsize = (21,6))\n",
    "ax[0].plot(df_example['BTC'])\n",
    "ax[0].set_title('Bitcoin Prices')\n",
    "ax[0].set_ylabel('Day closing price (USD)')\n",
    "ax[0].set_xlabel('Date')\n",
    "ax[1].plot(df_example_dff['BTC'])\n",
    "ax[1].set_title('Bitcoin Price Changes from Previous Day')\n",
    "ax[1].set_ylabel('Day closing price (USD)')\n",
    "ax[1].set_xlabel('Date')\n",
    "plot_acf(df_example_dff.BTC, lags = 30, ax = ax[2])\n",
    "ax[2].set_title('Autocorrelation of First Differences')\n",
    "ax[2].set_ylabel('Autocorrelation')\n",
    "ax[2].set_xlabel('Lag')\n",
    "plt.show()"
   ]
  },
  {
   "cell_type": "code",
   "execution_count": null,
   "metadata": {},
   "outputs": [],
   "source": [
    "from statsmodels.tsa.stattools import adfuller\n",
    "results = adfuller(df_example['BTC'])\n",
    "results2 = adfuller(df_example_diff['BTC'])\n",
    "#Just print out the p-value\n",
    "print('The p-value of the Augmented Dickey-Fuller test on prices is: %.3f' %results[1])\n",
    "print('The p-value of the Augmented Dickey-Fuller test on price changes is: %.3f' %results2[1])\n",
    "BTC_auto = df_example_diff['BTC'].autocorr()\n",
    "print(\"The autocorrelation of Bitcoin change of price from previous day is %4.2f\" %(BTC_auto))"
   ]
  },
  {
   "cell_type": "markdown",
   "metadata": {},
   "source": [
    "Based on our results, we cannot reject the hypthesis that Bitcoin day prices has a unit root, therefore Bitcoin day prices is a non-stationary series. When we take first differences however, the Augmented Dickey-Fuller yields a p-value close to 0. It seams taking first differences of Bitcoin day prices yields a stationary series. <br> <br>\n",
    "Now it's time to construct our model. We will hold out the last week of prices to validate our model upon, and train the model with the rest of the data. We will then plot the results and print the MSE of our model."
   ]
  },
  {
   "cell_type": "code",
   "execution_count": null,
   "metadata": {},
   "outputs": [],
   "source": [
    "#Split dataset\n",
    "train, test = BTC[1:len(BTC)-7], BTC[len(BTC)-7:]\n",
    "\n",
    "#Train autoregression model\n",
    "from statsmodels.tsa.ar_model import AR\n",
    "model = AR(train, freq = 'D')\n",
    "model_fit = model.fit()\n",
    "\n",
    "#Make predictions and score results\n",
    "from sklearn.metrics import mean_squared_error\n",
    "predictions = model_fit.predict(start=len(train), end=len(train)+len(test)-1, dynamic=False)\n",
    "for i in range(len(predictions)):\n",
    "\tprint('predicted=%f, expected=%f' % (predictions[i], test[i]))\n",
    "error = mean_squared_error(test, predictions)\n",
    "print('Test MSE: %.3f' % error)\n",
    "\n",
    "#Plot predictions\n",
    "fig, ax = plt.subplots(figsize = (8,6))\n",
    "ax.plot(test, label = 'Actual closing price')\n",
    "ax.plot(predictions, color='red', label = 'Predicted closing price')\n",
    "ax.legend()\n",
    "ax.set_title('Forecast vs actual values of Bitcoin prices')\n",
    "ax.set_ylabel('Day closing price (USD)')\n",
    "ax.set_xlabel('Date')\n",
    "plt.show()"
   ]
  },
  {
   "cell_type": "markdown",
   "metadata": {},
   "source": [
    "We have successfully created a prediction model for Bitcoin prices! However, we have more data available to us. Can we improve the accuracy of our model by adding data from other series in our dataset? Our next model will include the day prices of Ethereum along with the day prices of Bitcoin."
   ]
  },
  {
   "cell_type": "code",
   "execution_count": null,
   "metadata": {},
   "outputs": [],
   "source": [
    "#Split dataset\n",
    "train = df_example[:len(df_example.index)-7]\n",
    "test = df_example[len(df_example.index)-7:]\n",
    "\n",
    "#Train autoregression model\n",
    "from statsmodels.tsa.vector_ar.var_model import VAR\n",
    "model = VAR(train, freq = 'D')\n",
    "model_fit = model.fit()\n",
    "\n",
    "#Make predictions \n",
    "prediction = model_fit.forecast(model_fit.y, steps = len(test))"
   ]
  },
  {
   "cell_type": "code",
   "execution_count": null,
   "metadata": {},
   "outputs": [],
   "source": [
    "#Convert predictions to dataframe\n",
    "pred = pd.DataFrame(prediction, index=test.index, columns=test.columns)\n",
    "\n",
    "#Print MSE\n",
    "for i in pred.columns:\n",
    "    print('Test MSE value for', i, 'is : ', mean_squared_error(pred[i], test[i]))"
   ]
  },
  {
   "cell_type": "code",
   "execution_count": null,
   "metadata": {},
   "outputs": [],
   "source": [
    "#Plot predictions\n",
    "fig, ax = plt.subplots(1,2, figsize = (16,6))\n",
    "ax[0].plot(test['BTC'], color = 'b', label = 'Actual prices')\n",
    "ax[0].plot(pred['BTC'], color = 'c', label = 'Predicted prices')\n",
    "ax[0].legend()\n",
    "ax[0].set_title('Bitcoin Actual vs Predicted Prices')\n",
    "ax[0].set_ylabel('Day closing prices (USD)')\n",
    "ax[0].set_xlabel('Date')\n",
    "ax[1].plot(test['ETH'], color = 'r', label = 'Actual prices')\n",
    "ax[1].plot(pred['ETH'], color = 'm', label = 'Predicted prices')\n",
    "ax[1].legend()\n",
    "ax[1].set_title('Ethereum Actual vs Predicted Prices')\n",
    "ax[1].set_ylabel('Day closing prices (USD)')\n",
    "ax[1].set_xlabel('Date')\n",
    "plt.show()"
   ]
  },
  {
   "cell_type": "markdown",
   "metadata": {},
   "source": [
    "Although the plotted prediction for the Vector Autoregression Model appears simpler than the more flexible fit from the univariate Autoregression Model, it actually performs better for predicting Bitcoin Prices according to the measure of test MSE (21671 vs 27848).  <br> <br>\n",
    "In theory, we can continue this process, improving our model by adding historical data from other cryptocurrencies (so long as there is sufficient correlation between the series'). Although we will not perform this process here, designing an optimal model from our dataset requires us to beware of adding variables to the model with little added value of prediction. We would be best served to include only data from cryptocurrencies whose prices vary with that of Bitcoin. "
   ]
  }
 ],
 "metadata": {
  "kernelspec": {
   "display_name": "Python 3",
   "language": "python",
   "name": "python3"
  },
  "language_info": {
   "codemirror_mode": {
    "name": "ipython",
    "version": 3
   },
   "file_extension": ".py",
   "mimetype": "text/x-python",
   "name": "python",
   "nbconvert_exporter": "python",
   "pygments_lexer": "ipython3",
   "version": "3.6.8"
  }
 },
 "nbformat": 4,
 "nbformat_minor": 2
}
